{
  "nbformat": 4,
  "nbformat_minor": 0,
  "metadata": {
    "colab": {
      "provenance": [],
      "collapsed_sections": [],
      "authorship_tag": "ABX9TyNZT9emeOexLX7coOKKLmS9",
      "include_colab_link": true
    },
    "kernelspec": {
      "name": "python3",
      "display_name": "Python 3"
    },
    "language_info": {
      "name": "python"
    },
    "accelerator": "GPU"
  },
  "cells": [
    {
      "cell_type": "markdown",
      "metadata": {
        "id": "view-in-github",
        "colab_type": "text"
      },
      "source": [
        "<a href=\"https://colab.research.google.com/github/ram130849/GANs/blob/main/WGAN.ipynb\" target=\"_parent\"><img src=\"https://colab.research.google.com/assets/colab-badge.svg\" alt=\"Open In Colab\"/></a>"
      ]
    },
    {
      "cell_type": "code",
      "execution_count": 8,
      "metadata": {
        "id": "XLWow3CEHuh0"
      },
      "outputs": [],
      "source": [
        "import torch\n",
        "import torch.nn as nn\n",
        "import torch.optim as optim\n",
        "import matplotlib.pyplot as plt\n",
        "import numpy as np\n",
        "from torchvision import transforms\n",
        "from torchvision.datasets import MNIST\n",
        "from torchvision.utils import make_grid\n",
        "from torch.utils.data import DataLoader\n",
        "import imageio"
      ]
    },
    {
      "cell_type": "code",
      "source": [
        "transform = transforms.Compose([\n",
        "                transforms.ToTensor(),\n",
        "                transforms.Normalize((0.5,),(0.5,))\n",
        "                ])\n",
        "to_image = transforms.ToPILImage()\n",
        "data = MNIST(root='./data/', train=True, download=True, transform=transform)\n",
        "data_loader = DataLoader(data, batch_size=64, shuffle=True)\n",
        "\n",
        "device = 'cuda'"
      ],
      "metadata": {
        "id": "q1YuM6HEHxNA"
      },
      "execution_count": 9,
      "outputs": []
    },
    {
      "cell_type": "code",
      "source": [
        "class Generator(nn.Module):\n",
        "    def __init__(self) -> None:\n",
        "        super(Generator,self).__init__()\n",
        "        self.n_features = 100\n",
        "        self.n_out = 784\n",
        "        self.model = nn.Sequential(\n",
        "              nn.Linear(self.n_features,256),\n",
        "              nn.LeakyReLU(0.2),\n",
        "              nn.Linear(256,512),\n",
        "              nn.LeakyReLU(0.2),\n",
        "              nn.Linear(512,1024),\n",
        "              nn.LeakyReLU(0.2),\n",
        "              nn.Linear(1024,self.n_out),\n",
        "              nn.Tanh()\n",
        "        )\n",
        "    def forward(self,x):\n",
        "        x = self.model(x)\n",
        "        x = x.view(-1,1,28,28)\n",
        "        return x"
      ],
      "metadata": {
        "id": "b7afwop2HxVl"
      },
      "execution_count": 10,
      "outputs": []
    },
    {
      "cell_type": "code",
      "source": [
        "class Discriminator(nn.Module):\n",
        "    def __init__(self) -> None:\n",
        "        super(Discriminator,self).__init__()\n",
        "        self.n_in = 784\n",
        "        self.n_out = 1\n",
        "        self.model = nn.Sequential(\n",
        "            nn.Linear(self.n_in,1000),\n",
        "            nn.LeakyReLU(0.2),\n",
        "            nn.Linear(1000,512),\n",
        "            nn.LeakyReLU(0.2),\n",
        "            nn.Linear(512,256),\n",
        "            nn.LeakyReLU(0.2),\n",
        "            nn.Linear(256,self.n_out)\n",
        "        )\n",
        "    def forward(self,x):\n",
        "        x = x.view(-1,784)\n",
        "        x = self.model(x)\n",
        "        return x"
      ],
      "metadata": {
        "id": "y2aGsvSbHxeU"
      },
      "execution_count": 11,
      "outputs": []
    },
    {
      "cell_type": "code",
      "source": [
        "def init_weights(m):\n",
        "    if isinstance(m, nn.Linear):\n",
        "        torch.nn.init.xavier_uniform_(m.weight)\n",
        "        m.bias.data.fill_(0.01)"
      ],
      "metadata": {
        "id": "yD5mdesgzx-2"
      },
      "execution_count": 15,
      "outputs": []
    },
    {
      "cell_type": "code",
      "source": [
        "actor = Generator()\n",
        "critic = Discriminator()\n",
        "\n",
        "actor = actor.to(device)\n",
        "critic = critic.to(device)\n",
        "\n",
        "alpha = 5e-5\n",
        "g_optim = optim.RMSprop(actor.parameters(),lr=alpha)\n",
        "d_optim = optim.RMSprop(critic.parameters(),lr=alpha)"
      ],
      "metadata": {
        "id": "-KpDa96jHxlH"
      },
      "execution_count": 13,
      "outputs": []
    },
    {
      "cell_type": "code",
      "source": [
        "actor.apply(init_weights)\n",
        "critic.apply(init_weights)"
      ],
      "metadata": {
        "id": "Jl54jcayz4sh",
        "outputId": "75cdf055-36fc-40e8-bafc-1c7d16978a05",
        "colab": {
          "base_uri": "https://localhost:8080/"
        }
      },
      "execution_count": 16,
      "outputs": [
        {
          "output_type": "execute_result",
          "data": {
            "text/plain": [
              "Discriminator(\n",
              "  (model): Sequential(\n",
              "    (0): Linear(in_features=784, out_features=1000, bias=True)\n",
              "    (1): LeakyReLU(negative_slope=0.2)\n",
              "    (2): Linear(in_features=1000, out_features=512, bias=True)\n",
              "    (3): LeakyReLU(negative_slope=0.2)\n",
              "    (4): Linear(in_features=512, out_features=256, bias=True)\n",
              "    (5): LeakyReLU(negative_slope=0.2)\n",
              "    (6): Linear(in_features=256, out_features=1, bias=True)\n",
              "  )\n",
              ")"
            ]
          },
          "metadata": {},
          "execution_count": 16
        }
      ]
    },
    {
      "cell_type": "code",
      "source": [
        "g_losses = []\n",
        "d_losses = []\n",
        "images = []\n",
        "\n",
        "def noise(n,n_features=100):\n",
        "      return torch.randn(n,n_features).to(device)"
      ],
      "metadata": {
        "id": "5pwmrF7ZHxsp"
      },
      "execution_count": 17,
      "outputs": []
    },
    {
      "cell_type": "code",
      "source": [
        "no_epochs = 250\n",
        "n_critic = 5\n",
        "test_noise = noise(64)\n",
        "\n",
        "actor.train()\n",
        "critic.train()\n",
        "for epoch in range(no_epochs):\n",
        "    a_error = 0.0\n",
        "    c_error = 0.0\n",
        "    for idx,data in enumerate(data_loader):\n",
        "        imgs,labels = data\n",
        "        n = len(imgs)\n",
        "        fake_data = actor(noise(n)).detach()\n",
        "        real_data = imgs.to(device)\n",
        "        d_optim.zero_grad()\n",
        "        err_real = critic(real_data).mean()\n",
        "        err_fake = critic(fake_data).mean()\n",
        "        total_error = -(err_real-err_fake)\n",
        "        total_error.backward()\n",
        "        d_optim.step()\n",
        "        for p in critic.parameters():\n",
        "            p.data.clamp(-0.01,0.01)\n",
        "        total_error = -total_error\n",
        "        c_error+=total_error\n",
        "        if((idx+1)%n_critic==0):\n",
        "            fake_data = actor(noise(n))\n",
        "            g_optim.zero_grad()\n",
        "            error = -critic(fake_data).mean()\n",
        "            error.backward()\n",
        "            g_optim.step()\n",
        "            a_error+=error\n",
        "    if(epoch%5==0):\n",
        "        img = actor(test_noise).cpu().detach()\n",
        "        img = make_grid(img)\n",
        "        images.append(to_image(img))\n",
        "        a_error.cpu()\n",
        "        g_losses.append(a_error.cpu().detach().numpy())\n",
        "        c_error.cpu()\n",
        "        d_losses.append(c_error.cpu().detach().numpy())\n",
        "    print('Epoch {}: G_loss: {:.4f} C_loss: {:.4f}'.format(epoch, a_error, c_error))\n",
        "    \n",
        "print('Training Finished')\n",
        "torch.save(actor.state_dict(), 'mnist_generator.pth')\n"
      ],
      "metadata": {
        "colab": {
          "base_uri": "https://localhost:8080/"
        },
        "id": "Q0hUm84RHxyS",
        "outputId": "f698f4a7-9b2c-4a73-b31d-956978b242ac"
      },
      "execution_count": 18,
      "outputs": [
        {
          "output_type": "stream",
          "name": "stdout",
          "text": [
            "Epoch 0: G_loss: -104776.5547 C_loss: 33413.8984\n",
            "Epoch 1: G_loss: -87063.0625 C_loss: 1182256.0000\n",
            "Epoch 2: G_loss: -2370823.2500 C_loss: 4590826.0000\n",
            "Epoch 3: G_loss: -4976302.5000 C_loss: 9757119.0000\n",
            "Epoch 4: G_loss: -12262008.0000 C_loss: 25504372.0000\n",
            "Epoch 5: G_loss: -18520168.0000 C_loss: 65809916.0000\n",
            "Epoch 6: G_loss: -33424686.0000 C_loss: 89269744.0000\n",
            "Epoch 7: G_loss: -60383012.0000 C_loss: 115084600.0000\n",
            "Epoch 8: G_loss: -95000952.0000 C_loss: 186350368.0000\n",
            "Epoch 9: G_loss: -111788264.0000 C_loss: 274631744.0000\n",
            "Epoch 10: G_loss: -173788960.0000 C_loss: 323915040.0000\n",
            "Epoch 11: G_loss: -218141120.0000 C_loss: 434749696.0000\n",
            "Epoch 12: G_loss: -291995392.0000 C_loss: 429949216.0000\n",
            "Epoch 13: G_loss: -386321952.0000 C_loss: 598764608.0000\n",
            "Epoch 14: G_loss: -380047072.0000 C_loss: 934295744.0000\n",
            "Epoch 15: G_loss: -576743744.0000 C_loss: 711286144.0000\n",
            "Epoch 16: G_loss: -724567168.0000 C_loss: 1072796224.0000\n",
            "Epoch 17: G_loss: -745100992.0000 C_loss: 1176947712.0000\n",
            "Epoch 18: G_loss: -894580672.0000 C_loss: 1716764672.0000\n",
            "Epoch 19: G_loss: -1392347392.0000 C_loss: 2270873344.0000\n",
            "Epoch 20: G_loss: -1543846656.0000 C_loss: 2537719040.0000\n",
            "Epoch 21: G_loss: -1765876480.0000 C_loss: 2534419712.0000\n",
            "Epoch 22: G_loss: -1930012672.0000 C_loss: 3926192896.0000\n",
            "Epoch 23: G_loss: -2121449984.0000 C_loss: 3157000448.0000\n",
            "Epoch 24: G_loss: -2133468032.0000 C_loss: 6105913856.0000\n",
            "Epoch 25: G_loss: -2043520384.0000 C_loss: 6364037120.0000\n",
            "Epoch 26: G_loss: -2032782976.0000 C_loss: 7682695168.0000\n",
            "Epoch 27: G_loss: -1642583936.0000 C_loss: 14046045184.0000\n",
            "Epoch 28: G_loss: -3071250432.0000 C_loss: 8443254784.0000\n",
            "Epoch 29: G_loss: -3401203968.0000 C_loss: 13064292352.0000\n",
            "Epoch 30: G_loss: -4098003712.0000 C_loss: 14605422592.0000\n",
            "Epoch 31: G_loss: -4345199616.0000 C_loss: 14926141440.0000\n",
            "Epoch 32: G_loss: -4844956672.0000 C_loss: 16084343808.0000\n",
            "Epoch 33: G_loss: -7458761216.0000 C_loss: 14153309184.0000\n",
            "Epoch 34: G_loss: -5667386880.0000 C_loss: 21700405248.0000\n",
            "Epoch 35: G_loss: -8731706368.0000 C_loss: 13356861440.0000\n",
            "Epoch 36: G_loss: -9841366016.0000 C_loss: 19675035648.0000\n",
            "Epoch 37: G_loss: -8640559104.0000 C_loss: 21959106560.0000\n",
            "Epoch 38: G_loss: -8451834880.0000 C_loss: 26672726016.0000\n",
            "Epoch 39: G_loss: -6986064896.0000 C_loss: 36072189952.0000\n",
            "Epoch 40: G_loss: -25651777536.0000 C_loss: 5209392128.0000\n",
            "Epoch 41: G_loss: -12755275776.0000 C_loss: 39993061376.0000\n",
            "Epoch 42: G_loss: -13430946816.0000 C_loss: 10268365824.0000\n",
            "Epoch 43: G_loss: -9633366016.0000 C_loss: 42288631808.0000\n",
            "Epoch 44: G_loss: -16112889856.0000 C_loss: 7740163584.0000\n",
            "Epoch 45: G_loss: -21740562432.0000 C_loss: 1796144384.0000\n",
            "Epoch 46: G_loss: -20721682432.0000 C_loss: 28036012032.0000\n",
            "Epoch 47: G_loss: -37787181056.0000 C_loss: 30567483392.0000\n",
            "Epoch 48: G_loss: -46787063808.0000 C_loss: 11561341952.0000\n",
            "Epoch 49: G_loss: -14991443968.0000 C_loss: 39188725760.0000\n",
            "Epoch 50: G_loss: -9585394688.0000 C_loss: 12670909440.0000\n",
            "Epoch 51: G_loss: -52803198976.0000 C_loss: 19364546560.0000\n",
            "Epoch 52: G_loss: -5243024896.0000 C_loss: -22304094208.0000\n",
            "Epoch 53: G_loss: -18237917184.0000 C_loss: 31323127808.0000\n",
            "Epoch 54: G_loss: -15635074048.0000 C_loss: 32913457152.0000\n",
            "Epoch 55: G_loss: -71126368256.0000 C_loss: -10500533248.0000\n",
            "Epoch 56: G_loss: -43510579200.0000 C_loss: 21629775872.0000\n",
            "Epoch 57: G_loss: -62574989312.0000 C_loss: 2241798144.0000\n",
            "Epoch 58: G_loss: -22676107264.0000 C_loss: 30646616064.0000\n",
            "Epoch 59: G_loss: -64213258240.0000 C_loss: 17016028160.0000\n",
            "Epoch 60: G_loss: -75079352320.0000 C_loss: -3144002048.0000\n",
            "Epoch 61: G_loss: -54334402560.0000 C_loss: 12454557696.0000\n",
            "Epoch 62: G_loss: -68389933056.0000 C_loss: 33380030464.0000\n",
            "Epoch 63: G_loss: -82940223488.0000 C_loss: 10052462592.0000\n",
            "Epoch 64: G_loss: -35406815232.0000 C_loss: 17407731712.0000\n",
            "Epoch 65: G_loss: -32034928640.0000 C_loss: 33898405888.0000\n",
            "Epoch 66: G_loss: -69618401280.0000 C_loss: 31269251072.0000\n",
            "Epoch 67: G_loss: -84770004992.0000 C_loss: 19784898560.0000\n",
            "Epoch 68: G_loss: -45120647168.0000 C_loss: 11350603776.0000\n",
            "Epoch 69: G_loss: -41912262656.0000 C_loss: 46205194240.0000\n",
            "Epoch 70: G_loss: -75583561728.0000 C_loss: 36036268032.0000\n",
            "Epoch 71: G_loss: -13414704128.0000 C_loss: 98423930880.0000\n",
            "Epoch 72: G_loss: -82337996800.0000 C_loss: 40328843264.0000\n",
            "Epoch 73: G_loss: -31067883520.0000 C_loss: 22787041280.0000\n",
            "Epoch 74: G_loss: -44840837120.0000 C_loss: 24706885632.0000\n",
            "Epoch 75: G_loss: -65042268160.0000 C_loss: 67948179456.0000\n",
            "Epoch 76: G_loss: -56283160576.0000 C_loss: 40350158848.0000\n",
            "Epoch 77: G_loss: -32905064448.0000 C_loss: 90551074816.0000\n",
            "Epoch 78: G_loss: -49571639296.0000 C_loss: 43578322944.0000\n",
            "Epoch 79: G_loss: -19390418944.0000 C_loss: 97640456192.0000\n",
            "Epoch 80: G_loss: -71226703872.0000 C_loss: 82556182528.0000\n",
            "Epoch 81: G_loss: -28646162432.0000 C_loss: 62676041728.0000\n",
            "Epoch 82: G_loss: 50342076416.0000 C_loss: 199632977920.0000\n",
            "Epoch 83: G_loss: 408743808.0000 C_loss: 130362318848.0000\n",
            "Epoch 84: G_loss: -121986383872.0000 C_loss: 61230882816.0000\n",
            "Epoch 85: G_loss: -80700039168.0000 C_loss: 44707753984.0000\n",
            "Epoch 86: G_loss: 34499715072.0000 C_loss: 152356503552.0000\n",
            "Epoch 87: G_loss: 40609415168.0000 C_loss: 235365154816.0000\n",
            "Epoch 88: G_loss: 49287782400.0000 C_loss: 351640322048.0000\n",
            "Epoch 89: G_loss: 34697207808.0000 C_loss: 157973512192.0000\n",
            "Epoch 90: G_loss: 16904542208.0000 C_loss: 116314759168.0000\n",
            "Epoch 91: G_loss: 32149520384.0000 C_loss: 179566346240.0000\n",
            "Epoch 92: G_loss: -36693385216.0000 C_loss: 272598941696.0000\n",
            "Epoch 93: G_loss: -125745995776.0000 C_loss: 36235640832.0000\n",
            "Epoch 94: G_loss: 101455052800.0000 C_loss: 7926536192.0000\n",
            "Epoch 95: G_loss: 29651322880.0000 C_loss: 258175336448.0000\n",
            "Epoch 96: G_loss: 27752988672.0000 C_loss: 381279109120.0000\n",
            "Epoch 97: G_loss: 21911576576.0000 C_loss: 237716209664.0000\n",
            "Epoch 98: G_loss: 62932955136.0000 C_loss: 428198035456.0000\n",
            "Epoch 99: G_loss: -2854275584.0000 C_loss: 94911963136.0000\n",
            "Epoch 100: G_loss: 68549537792.0000 C_loss: 257849802752.0000\n",
            "Epoch 101: G_loss: 28045117440.0000 C_loss: 375335944192.0000\n",
            "Epoch 102: G_loss: 29280534528.0000 C_loss: 468178698240.0000\n",
            "Epoch 103: G_loss: 72223744000.0000 C_loss: 383511035904.0000\n",
            "Epoch 104: G_loss: 63838216192.0000 C_loss: 431424831488.0000\n",
            "Epoch 105: G_loss: 64601038848.0000 C_loss: 279950229504.0000\n",
            "Epoch 106: G_loss: 5326002176.0000 C_loss: 420842405888.0000\n",
            "Epoch 107: G_loss: -289716600832.0000 C_loss: 174023671808.0000\n",
            "Epoch 108: G_loss: 11795961856.0000 C_loss: 351106203648.0000\n",
            "Epoch 109: G_loss: 35529490432.0000 C_loss: 605042049024.0000\n",
            "Epoch 110: G_loss: 133152407552.0000 C_loss: 927358582784.0000\n",
            "Epoch 111: G_loss: 104960729088.0000 C_loss: 545900888064.0000\n",
            "Epoch 112: G_loss: 172131909632.0000 C_loss: 344483430400.0000\n",
            "Epoch 113: G_loss: 8202158592.0000 C_loss: 376774098944.0000\n",
            "Epoch 114: G_loss: 33761957888.0000 C_loss: 475510734848.0000\n",
            "Epoch 115: G_loss: 51259662336.0000 C_loss: 520119484416.0000\n",
            "Epoch 116: G_loss: 113978105856.0000 C_loss: 812350570496.0000\n",
            "Epoch 117: G_loss: 53828452352.0000 C_loss: 522705272832.0000\n",
            "Epoch 118: G_loss: 207645573120.0000 C_loss: 1113667665920.0000\n",
            "Epoch 119: G_loss: 61551955968.0000 C_loss: 568739823616.0000\n",
            "Epoch 120: G_loss: 245559492608.0000 C_loss: 3641324339200.0000\n",
            "Epoch 121: G_loss: -791472504832.0000 C_loss: -450591817728.0000\n",
            "Epoch 122: G_loss: -126451531776.0000 C_loss: 374930243584.0000\n",
            "Epoch 123: G_loss: 181960572928.0000 C_loss: 1693416292352.0000\n",
            "Epoch 124: G_loss: 168535703552.0000 C_loss: 1114831585280.0000\n",
            "Epoch 125: G_loss: 335437070336.0000 C_loss: 1862032162816.0000\n",
            "Epoch 126: G_loss: 9431960576.0000 C_loss: 756564819968.0000\n",
            "Epoch 127: G_loss: 468258488320.0000 C_loss: 4654393458688.0000\n",
            "Epoch 128: G_loss: -116005126144.0000 C_loss: 4208919314432.0000\n",
            "Epoch 129: G_loss: -1149290807296.0000 C_loss: -132710825984.0000\n",
            "Epoch 130: G_loss: -206070480896.0000 C_loss: 1196846481408.0000\n",
            "Epoch 131: G_loss: 421905530880.0000 C_loss: 2226447974400.0000\n",
            "Epoch 132: G_loss: 601006342144.0000 C_loss: 3104251052032.0000\n",
            "Epoch 133: G_loss: 497770463232.0000 C_loss: 2521066373120.0000\n",
            "Epoch 134: G_loss: 720768729088.0000 C_loss: 4582814515200.0000\n",
            "Epoch 135: G_loss: 390504022016.0000 C_loss: -567773298688.0000\n",
            "Epoch 136: G_loss: 1015612375040.0000 C_loss: 762529316864.0000\n",
            "Epoch 137: G_loss: 564500824064.0000 C_loss: 4348760031232.0000\n",
            "Epoch 138: G_loss: 454401589248.0000 C_loss: 1760388841472.0000\n",
            "Epoch 139: G_loss: -150137831424.0000 C_loss: -628843085824.0000\n",
            "Epoch 140: G_loss: -175359950848.0000 C_loss: 1126141263872.0000\n",
            "Epoch 141: G_loss: 231559643136.0000 C_loss: 2486270689280.0000\n",
            "Epoch 142: G_loss: 599418470400.0000 C_loss: 738079801344.0000\n",
            "Epoch 143: G_loss: 1037463912448.0000 C_loss: 490356047872.0000\n",
            "Epoch 144: G_loss: 327513702400.0000 C_loss: 3371754848256.0000\n",
            "Epoch 145: G_loss: 476889546752.0000 C_loss: 1807891169280.0000\n",
            "Epoch 146: G_loss: 362441572352.0000 C_loss: 2483141738496.0000\n",
            "Epoch 147: G_loss: 483100000256.0000 C_loss: 3457430061056.0000\n",
            "Epoch 148: G_loss: 595575832576.0000 C_loss: 5281655291904.0000\n",
            "Epoch 149: G_loss: 749536083968.0000 C_loss: 3765949431808.0000\n",
            "Epoch 150: G_loss: 478064672768.0000 C_loss: 2538795958272.0000\n",
            "Epoch 151: G_loss: 779390287872.0000 C_loss: 4200225832960.0000\n",
            "Epoch 152: G_loss: 1128232386560.0000 C_loss: 5849978241024.0000\n",
            "Epoch 153: G_loss: 930576465920.0000 C_loss: 6908729622528.0000\n",
            "Epoch 154: G_loss: 1108812234752.0000 C_loss: 2591923896320.0000\n",
            "Epoch 155: G_loss: 1154897674240.0000 C_loss: 6110727110656.0000\n",
            "Epoch 156: G_loss: 1262700986368.0000 C_loss: 9113039798272.0000\n",
            "Epoch 157: G_loss: 135412359168.0000 C_loss: 1865291268096.0000\n",
            "Epoch 158: G_loss: 1151782354944.0000 C_loss: 10871292035072.0000\n",
            "Epoch 159: G_loss: 2067850854400.0000 C_loss: 25549917388800.0000\n",
            "Epoch 160: G_loss: -3121172971520.0000 C_loss: -1760916275200.0000\n",
            "Epoch 161: G_loss: -2629616795648.0000 C_loss: 1982408556544.0000\n",
            "Epoch 162: G_loss: -3168601899008.0000 C_loss: -602867171328.0000\n",
            "Epoch 163: G_loss: -3735869980672.0000 C_loss: -3200488570880.0000\n",
            "Epoch 164: G_loss: -881199742976.0000 C_loss: 9588706377728.0000\n",
            "Epoch 165: G_loss: 6190426624.0000 C_loss: 6227137396736.0000\n",
            "Epoch 166: G_loss: -183434919936.0000 C_loss: 4412862889984.0000\n",
            "Epoch 167: G_loss: 770146828288.0000 C_loss: 9219068657664.0000\n",
            "Epoch 168: G_loss: 1903366111232.0000 C_loss: 9745207394304.0000\n",
            "Epoch 169: G_loss: -2579615186944.0000 C_loss: -3788411240448.0000\n",
            "Epoch 170: G_loss: -742033719296.0000 C_loss: 13878193815552.0000\n",
            "Epoch 171: G_loss: 1313100398592.0000 C_loss: 25262680965120.0000\n",
            "Epoch 172: G_loss: 49596895232.0000 C_loss: 71102382080.0000\n",
            "Epoch 173: G_loss: 2271654707200.0000 C_loss: 2906923728896.0000\n",
            "Epoch 174: G_loss: 2360648138752.0000 C_loss: 9556041138176.0000\n",
            "Epoch 175: G_loss: 2140966748160.0000 C_loss: 14752165134336.0000\n",
            "Epoch 176: G_loss: 1605896503296.0000 C_loss: -5178560872448.0000\n",
            "Epoch 177: G_loss: 2881248034816.0000 C_loss: 20662393503744.0000\n",
            "Epoch 178: G_loss: 3264133726208.0000 C_loss: 42122770120704.0000\n",
            "Epoch 179: G_loss: -901813501952.0000 C_loss: 8705416888320.0000\n",
            "Epoch 180: G_loss: 2515327778816.0000 C_loss: 4741534318592.0000\n",
            "Epoch 181: G_loss: 3032431984640.0000 C_loss: 6373442584576.0000\n",
            "Epoch 182: G_loss: 3242194632704.0000 C_loss: 19157431091200.0000\n",
            "Epoch 183: G_loss: 3554387165184.0000 C_loss: 28661526822912.0000\n",
            "Epoch 184: G_loss: 379843510272.0000 C_loss: 20296440479744.0000\n",
            "Epoch 185: G_loss: -10609522376704.0000 C_loss: -11441224548352.0000\n",
            "Epoch 186: G_loss: -10895367340032.0000 C_loss: -3082415505408.0000\n",
            "Epoch 187: G_loss: -9605152243712.0000 C_loss: 6259073875968.0000\n",
            "Epoch 188: G_loss: -5842559041536.0000 C_loss: 23889671356416.0000\n",
            "Epoch 189: G_loss: 3327198756864.0000 C_loss: 67305664937984.0000\n",
            "Epoch 190: G_loss: -1948591325184.0000 C_loss: 43448665112576.0000\n",
            "Epoch 191: G_loss: -7258099941376.0000 C_loss: 11074400157696.0000\n",
            "Epoch 192: G_loss: -5260895584256.0000 C_loss: 19586548236288.0000\n",
            "Epoch 193: G_loss: 2997063254016.0000 C_loss: 35280438427648.0000\n",
            "Epoch 194: G_loss: 5224906883072.0000 C_loss: 34446665318400.0000\n",
            "Epoch 195: G_loss: 5502545690624.0000 C_loss: 36639065767936.0000\n",
            "Epoch 196: G_loss: 93677518848.0000 C_loss: -28294904807424.0000\n",
            "Epoch 197: G_loss: 7564037193728.0000 C_loss: -4530336956416.0000\n",
            "Epoch 198: G_loss: 6204145795072.0000 C_loss: 25675987681280.0000\n",
            "Epoch 199: G_loss: 6352669245440.0000 C_loss: 64843226808320.0000\n",
            "Epoch 200: G_loss: 3951399272448.0000 C_loss: 76773916147712.0000\n",
            "Epoch 201: G_loss: 4009052864512.0000 C_loss: 38581779300352.0000\n",
            "Epoch 202: G_loss: 7717386715136.0000 C_loss: 51648084836352.0000\n",
            "Epoch 203: G_loss: 8270612267008.0000 C_loss: 62647827431424.0000\n",
            "Epoch 204: G_loss: 7203748577280.0000 C_loss: 49770970218496.0000\n",
            "Epoch 205: G_loss: 6818422587392.0000 C_loss: 48395003625472.0000\n",
            "Epoch 206: G_loss: -2554083147776.0000 C_loss: -53548553338880.0000\n",
            "Epoch 207: G_loss: 6694223478784.0000 C_loss: -30502964690944.0000\n",
            "Epoch 208: G_loss: 9952393428992.0000 C_loss: 6943799246848.0000\n",
            "Epoch 209: G_loss: 3916262277120.0000 C_loss: 6117064704000.0000\n",
            "Epoch 210: G_loss: 7975274020864.0000 C_loss: 56728251006976.0000\n",
            "Epoch 211: G_loss: 9431107502080.0000 C_loss: 127654464323584.0000\n",
            "Epoch 212: G_loss: 10301097377792.0000 C_loss: 160309620768768.0000\n",
            "Epoch 213: G_loss: 14220104040448.0000 C_loss: 221900122882048.0000\n",
            "Epoch 214: G_loss: 17905022402560.0000 C_loss: 290075782938624.0000\n",
            "Epoch 215: G_loss: 21077981921280.0000 C_loss: 352055986225152.0000\n",
            "Epoch 216: G_loss: 25091318480896.0000 C_loss: 419974954876928.0000\n",
            "Epoch 217: G_loss: 29328582639616.0000 C_loss: 482633393897472.0000\n",
            "Epoch 218: G_loss: -47573939257344.0000 C_loss: 103595928190976.0000\n",
            "Epoch 219: G_loss: -84942230913024.0000 C_loss: -74308294541312.0000\n",
            "Epoch 220: G_loss: -80853338161152.0000 C_loss: -49873164435456.0000\n",
            "Epoch 221: G_loss: -76588746014720.0000 C_loss: -35262612635648.0000\n",
            "Epoch 222: G_loss: -72038102335488.0000 C_loss: -27752329641984.0000\n",
            "Epoch 223: G_loss: -65859296952320.0000 C_loss: -12911827222528.0000\n",
            "Epoch 224: G_loss: -60476008431616.0000 C_loss: 1250430550016.0000\n",
            "Epoch 225: G_loss: -56456267169792.0000 C_loss: 20439040524288.0000\n",
            "Epoch 226: G_loss: -53588298563584.0000 C_loss: 39101420011520.0000\n",
            "Epoch 227: G_loss: -59243906465792.0000 C_loss: 5143454023680.0000\n",
            "Epoch 228: G_loss: -56632495046656.0000 C_loss: 5964923142144.0000\n",
            "Epoch 229: G_loss: -55797719498752.0000 C_loss: 15643257602048.0000\n",
            "Epoch 230: G_loss: -56638916526080.0000 C_loss: 21796690591744.0000\n",
            "Epoch 231: G_loss: -55483557740544.0000 C_loss: 40106878566400.0000\n",
            "Epoch 232: G_loss: -46285415514112.0000 C_loss: 83524681990144.0000\n",
            "Epoch 233: G_loss: -46924384174080.0000 C_loss: 57595389804544.0000\n",
            "Epoch 234: G_loss: -56953761955840.0000 C_loss: 18998720724992.0000\n",
            "Epoch 235: G_loss: -57505216462848.0000 C_loss: 25314906341376.0000\n",
            "Epoch 236: G_loss: -55956113195008.0000 C_loss: 37984321667072.0000\n",
            "Epoch 237: G_loss: -51507458211840.0000 C_loss: 56330840702976.0000\n",
            "Epoch 238: G_loss: -46811452538880.0000 C_loss: 49171675480064.0000\n",
            "Epoch 239: G_loss: -49684190068736.0000 C_loss: 46919451672576.0000\n",
            "Epoch 240: G_loss: -46349336707072.0000 C_loss: 78194350751744.0000\n",
            "Epoch 241: G_loss: -35082301603840.0000 C_loss: 121645922516992.0000\n",
            "Epoch 242: G_loss: -27497934618624.0000 C_loss: 169192267448320.0000\n",
            "Epoch 243: G_loss: -25538028634112.0000 C_loss: 184511107170304.0000\n",
            "Epoch 244: G_loss: -66536907735040.0000 C_loss: -50236110143488.0000\n",
            "Epoch 245: G_loss: -93975998365696.0000 C_loss: -128897781858304.0000\n",
            "Epoch 246: G_loss: -131392956530688.0000 C_loss: -274828179275776.0000\n",
            "Epoch 247: G_loss: -119470890680320.0000 C_loss: -208665097273344.0000\n",
            "Epoch 248: G_loss: -103019001675776.0000 C_loss: -133904497377280.0000\n",
            "Epoch 249: G_loss: -92220791193600.0000 C_loss: -80130374369280.0000\n",
            "Training Finished\n"
          ]
        }
      ]
    },
    {
      "cell_type": "code",
      "source": [
        "plt.clf()\n",
        "plt.plot(g_losses, label='Generator Losses')\n",
        "plt.plot(d_losses, label='Critic Losses')\n",
        "plt.legend()\n",
        "plt.savefig('loss.png')\n",
        "imageio.mimsave('progress.gif', [np.array(i) for i in images])"
      ],
      "metadata": {
        "id": "qyqc3mm8Hx4T",
        "outputId": "fbbbb6ec-bbaa-4612-cb9f-dd6501b5fd2c",
        "colab": {
          "base_uri": "https://localhost:8080/",
          "height": 276
        }
      },
      "execution_count": 19,
      "outputs": [
        {
          "output_type": "display_data",
          "data": {
            "text/plain": [
              "<Figure size 432x288 with 1 Axes>"
            ],
            "image/png": "[encoded data removed]"
          },
          "metadata": {
            "needs_background": "light"
          }
        }
      ]
    },
    {
      "cell_type": "code",
      "source": [
        "# plt.plot(images[-1].)\n",
        "images[-1].show()"
      ],
      "metadata": {
        "id": "CnK7jrPZHx9X",
        "outputId": "7a6cd04e-4254-40dc-8b01-80cf0e9ffef6",
        "colab": {
          "base_uri": "https://localhost:8080/",
          "height": 183
        }
      },
      "execution_count": 25,
      "outputs": [
        {
          "output_type": "error",
          "ename": "AttributeError",
          "evalue": "ignored",
          "traceback": [
            "\u001b[0;31m---------------------------------------------------------------------------\u001b[0m",
            "\u001b[0;31mAttributeError\u001b[0m                            Traceback (most recent call last)",
            "\u001b[0;32m<ipython-input-25-742d06fd4296>\u001b[0m in \u001b[0;36m<module>\u001b[0;34m\u001b[0m\n\u001b[1;32m      1\u001b[0m \u001b[0;31m# plt.plot(images[-1].)\u001b[0m\u001b[0;34m\u001b[0m\u001b[0;34m\u001b[0m\u001b[0;34m\u001b[0m\u001b[0m\n\u001b[0;32m----> 2\u001b[0;31m \u001b[0mimages\u001b[0m\u001b[0;34m.\u001b[0m\u001b[0mshow\u001b[0m\u001b[0;34m(\u001b[0m\u001b[0;34m)\u001b[0m\u001b[0;34m\u001b[0m\u001b[0;34m\u001b[0m\u001b[0m\n\u001b[0m",
            "\u001b[0;31mAttributeError\u001b[0m: 'list' object has no attribute 'show'"
          ]
        }
      ]
    },
    {
      "cell_type": "code",
      "source": [],
      "metadata": {
        "id": "CQQbRmzDHyB1"
      },
      "execution_count": null,
      "outputs": []
    },
    {
      "cell_type": "code",
      "source": [],
      "metadata": {
        "id": "PXNFIWn_HyGD"
      },
      "execution_count": null,
      "outputs": []
    },
    {
      "cell_type": "code",
      "source": [],
      "metadata": {
        "id": "iY3Xa6GHHyK9"
      },
      "execution_count": null,
      "outputs": []
    },
    {
      "cell_type": "code",
      "source": [],
      "metadata": {
        "id": "RfOeNViLHyOt"
      },
      "execution_count": null,
      "outputs": []
    },
    {
      "cell_type": "code",
      "source": [],
      "metadata": {
        "id": "X2-LoNU2HySY"
      },
      "execution_count": null,
      "outputs": []
    },
    {
      "cell_type": "code",
      "source": [],
      "metadata": {
        "id": "odp4sjC6HyWF"
      },
      "execution_count": null,
      "outputs": []
    },
    {
      "cell_type": "code",
      "source": [],
      "metadata": {
        "id": "SaBm5mGfHyaX"
      },
      "execution_count": null,
      "outputs": []
    },
    {
      "cell_type": "code",
      "source": [],
      "metadata": {
        "id": "4q6sb-OkHyea"
      },
      "execution_count": null,
      "outputs": []
    },
    {
      "cell_type": "code",
      "source": [],
      "metadata": {
        "id": "6y2m_qEhHyif"
      },
      "execution_count": null,
      "outputs": []
    },
    {
      "cell_type": "code",
      "source": [],
      "metadata": {
        "id": "r2XK6S9lHymX"
      },
      "execution_count": null,
      "outputs": []
    },
    {
      "cell_type": "code",
      "source": [],
      "metadata": {
        "id": "0iE4fpiLHyqI"
      },
      "execution_count": null,
      "outputs": []
    },
    {
      "cell_type": "code",
      "source": [],
      "metadata": {
        "id": "WFyLlMO1Hyuu"
      },
      "execution_count": null,
      "outputs": []
    },
    {
      "cell_type": "code",
      "source": [],
      "metadata": {
        "id": "IQ5RQvwfHyy7"
      },
      "execution_count": null,
      "outputs": []
    },
    {
      "cell_type": "code",
      "source": [],
      "metadata": {
        "id": "XYepRfvUHy2u"
      },
      "execution_count": null,
      "outputs": []
    },
    {
      "cell_type": "code",
      "source": [
        "b"
      ],
      "metadata": {
        "id": "K5Qy6a47Hy6O"
      },
      "execution_count": null,
      "outputs": []
    },
    {
      "cell_type": "code",
      "source": [],
      "metadata": {
        "id": "5taEwMW2HzBm"
      },
      "execution_count": null,
      "outputs": []
    },
    {
      "cell_type": "code",
      "source": [],
      "metadata": {
        "id": "7tblsJdfHzFq"
      },
      "execution_count": null,
      "outputs": []
    },
    {
      "cell_type": "code",
      "source": [],
      "metadata": {
        "id": "EJTDM8CUHzJg"
      },
      "execution_count": null,
      "outputs": []
    },
    {
      "cell_type": "code",
      "source": [],
      "metadata": {
        "id": "4oVmNMRQHzNh"
      },
      "execution_count": null,
      "outputs": []
    },
    {
      "cell_type": "code",
      "source": [],
      "metadata": {
        "id": "SpfDcFT2HzRo"
      },
      "execution_count": null,
      "outputs": []
    },
    {
      "cell_type": "code",
      "source": [],
      "metadata": {
        "id": "Fi7iuZGCHzVk"
      },
      "execution_count": null,
      "outputs": []
    },
    {
      "cell_type": "code",
      "source": [],
      "metadata": {
        "id": "aUvE45SqHzZu"
      },
      "execution_count": null,
      "outputs": []
    },
    {
      "cell_type": "code",
      "source": [],
      "metadata": {
        "id": "_IwHz5HxHzdq"
      },
      "execution_count": null,
      "outputs": []
    },
    {
      "cell_type": "code",
      "source": [],
      "metadata": {
        "id": "lgL5KqbmHziN"
      },
      "execution_count": null,
      "outputs": []
    },
    {
      "cell_type": "code",
      "source": [],
      "metadata": {
        "id": "_qsUbdF7Hzlc"
      },
      "execution_count": null,
      "outputs": []
    }
  ]
}